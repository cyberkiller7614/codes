{
 "cells": [
  {
   "cell_type": "code",
   "execution_count": null,
   "id": "8ecf197a",
   "metadata": {},
   "outputs": [],
   "source": [
    "x= int(input(\"What's X ?\"))\n",
    "y= int(input(\"What's Y ?\"))\n",
    "\n",
    "if x<y or x>y:\n",
    "    print(\"X and Y are not equal\")\n",
    "\n",
    "else:\n",
    "    print(\"they are equal\")    "
   ]
  },
  {
   "cell_type": "code",
   "execution_count": null,
   "id": "a048d5ec",
   "metadata": {},
   "outputs": [],
   "source": [
    "score = int(input(\"Score: \"))\n",
    "\n",
    "if score >=90 and score <= 100:\n",
    "    print(\"Grade: A\")\n",
    "elif score >=80 and score<90:\n",
    "    print(\"Grade: B\")\n",
    "elif score > 100:\n",
    "    print(\"Invalid Input\")\n",
    "elif score >= 70 and score < 80:\n",
    "    print(\"Grade: C\")\n",
    "elif score >= 60 and score < 70:\n",
    "    print(\"Grade: D\")\n",
    "else:\n",
    "    print(\"Grade: F\")    \n",
    "\n"
   ]
  },
  {
   "cell_type": "code",
   "execution_count": null,
   "id": "12dcdc12",
   "metadata": {},
   "outputs": [],
   "source": [
    "ans = input(\"Do you agree? \").strip().lower()\n",
    "\n",
    "if ans.startswith(\"y\"):\n",
    "    print(\"Agreed\")\n",
    "else:\n",
    "    print(\"Not Agreed\")"
   ]
  },
  {
   "cell_type": "code",
   "execution_count": null,
   "id": "8fc58354",
   "metadata": {},
   "outputs": [],
   "source": [
    "def main():\n",
    "    x= int(input(\"What is x?\"))\n",
    "    if iseven(x):\n",
    "        print(\"even\")\n",
    "    else:\n",
    "        print(\"odd\")\n",
    "\n",
    "def iseven(n):\n",
    "    # if n%2 == 0:\n",
    "    #     return True\n",
    "    # else:\n",
    "    #     return False\n",
    "    return True if n%2 == 0 else False   #another way from the above code\n",
    "\n",
    "main()    \n"
   ]
  },
  {
   "cell_type": "code",
   "execution_count": null,
   "id": "bf4d9723",
   "metadata": {},
   "outputs": [],
   "source": [
    "name= input(\"What is your name?\")\n",
    "\n",
    "match name:\n",
    "    case \"Harry\":\n",
    "        print(\"Gryffindor\")\n",
    "    case \"Herminone\":\n",
    "        print(\"Gryffindor\")\n",
    "    case \"Ron\":\n",
    "        print(\"Gryffindor\")\n",
    "    case \"Darco\":\n",
    "        print(\"Slytherin\")\n",
    "    case _:    \n",
    "        print(\"Who?\")"
   ]
  },
  {
   "cell_type": "code",
   "execution_count": null,
   "id": "007b9c2a",
   "metadata": {},
   "outputs": [],
   "source": [
    "def main():\n",
    "    number = get_num()\n",
    "    meow(number)\n",
    "\n",
    "\n",
    "def get_num():\n",
    "    while True:\n",
    "        n = int(input(\"What's n ?\"))\n",
    "        if n> 0 :\n",
    "            break\n",
    "    return n\n",
    "def meow(n):\n",
    "    for _ in range(n):\n",
    "        print(\"Meow\")\n",
    "\n",
    "\n",
    "main()                "
   ]
  },
  {
   "cell_type": "code",
   "execution_count": null,
   "id": "ad04919d",
   "metadata": {},
   "outputs": [],
   "source": [
    "students = [\"Vedant\",\"Shubham\", \"Vraj\"]\n",
    "\n",
    "# print(students[0])\n",
    "# print(students[1])\n",
    "# print(students[2])\n",
    "\n",
    "for i in range(len(students)):\n",
    "    print(i + 1, students[i])"
   ]
  },
  {
   "cell_type": "code",
   "execution_count": 41,
   "id": "f000da43",
   "metadata": {},
   "outputs": [
    {
     "name": "stdout",
     "output_type": "stream",
     "text": [
      "Jack\n",
      "King\n",
      "Queen\n"
     ]
    }
   ],
   "source": [
    "import random\n",
    "\n",
    "cards= [\"Jack\", \"Queen\", \"King\"]\n",
    "random.shuffle(cards)\n",
    "for card in cards:\n",
    "    print(card)\n",
    "    "
   ]
  },
  {
   "cell_type": "code",
   "execution_count": 7,
   "id": "16de6db6",
   "metadata": {},
   "outputs": [],
   "source": [
    "import sys\n",
    "import cowsay\n",
    "\n",
    "if len(sys.argv) == 2:\n",
    "    cowsay.cow(\"Hello \"+ sys.argv[1])\n",
    "    "
   ]
  }
 ],
 "metadata": {
  "kernelspec": {
   "display_name": "Python 3 (ipykernel)",
   "language": "python",
   "name": "python3"
  },
  "language_info": {
   "codemirror_mode": {
    "name": "ipython",
    "version": 3
   },
   "file_extension": ".py",
   "mimetype": "text/x-python",
   "name": "python",
   "nbconvert_exporter": "python",
   "pygments_lexer": "ipython3",
   "version": "3.11.3"
  }
 },
 "nbformat": 4,
 "nbformat_minor": 5
}
